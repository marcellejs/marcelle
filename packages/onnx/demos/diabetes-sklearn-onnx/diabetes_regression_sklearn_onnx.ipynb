{
 "cells": [
  {
   "cell_type": "markdown",
   "id": "recent-harvest",
   "metadata": {},
   "source": [
    "# Simple Regression with Scikit-Learn & ONNX (Diabetes Dataset)\n",
    "\n",
    "This example illustrates how to train regression models from Scikit-learn and use them interactively in a Marcelle application. We use scikit-learn's [diabetes dataset](https://scikit-learn.org/stable/datasets/toy_dataset.html#diabetes-dataset).\n",
    "\n",
    "The dataset contains ten baseline variables: age, sex, body mass index, average blood pressure, and six blood serum measurements were obtained for each of n = 442 diabetes patients, as well as the response of interest, a quantitative measure of disease progression one year after baseline."
   ]
  },
  {
   "cell_type": "code",
   "execution_count": 15,
   "id": "blocked-lesbian",
   "metadata": {},
   "outputs": [],
   "source": [
    "from skl2onnx.common.data_types import FloatTensorType\n",
    "from skl2onnx import convert_sklearn\n",
    "import numpy as np\n",
    "import pandas as pd\n",
    "import matplotlib.pyplot as plt\n",
    "from sklearn.datasets import load_diabetes\n",
    "from sklearn.model_selection import train_test_split\n",
    "from sklearn.linear_model import LinearRegression\n",
    "from sklearn.ensemble import RandomForestRegressor"
   ]
  },
  {
   "cell_type": "markdown",
   "id": "8798657c",
   "metadata": {},
   "source": [
    "Load the dataset and split it between a training set and a test set"
   ]
  },
  {
   "cell_type": "code",
   "execution_count": 16,
   "id": "endangered-bleeding",
   "metadata": {},
   "outputs": [],
   "source": [
    "diabetes = load_diabetes(as_frame=True)\n",
    "X, y = diabetes.data, diabetes.target\n",
    "X_train, X_test, y_train, y_test = train_test_split(X, y)"
   ]
  },
  {
   "cell_type": "code",
   "execution_count": 17,
   "id": "1a024766",
   "metadata": {},
   "outputs": [
    {
     "data": {
      "text/html": [
       "<div>\n",
       "<style scoped>\n",
       "    .dataframe tbody tr th:only-of-type {\n",
       "        vertical-align: middle;\n",
       "    }\n",
       "\n",
       "    .dataframe tbody tr th {\n",
       "        vertical-align: top;\n",
       "    }\n",
       "\n",
       "    .dataframe thead th {\n",
       "        text-align: right;\n",
       "    }\n",
       "</style>\n",
       "<table border=\"1\" class=\"dataframe\">\n",
       "  <thead>\n",
       "    <tr style=\"text-align: right;\">\n",
       "      <th></th>\n",
       "      <th>age</th>\n",
       "      <th>sex</th>\n",
       "      <th>bmi</th>\n",
       "      <th>bp</th>\n",
       "      <th>s1</th>\n",
       "      <th>s2</th>\n",
       "      <th>s3</th>\n",
       "      <th>s4</th>\n",
       "      <th>s5</th>\n",
       "      <th>s6</th>\n",
       "    </tr>\n",
       "  </thead>\n",
       "  <tbody>\n",
       "    <tr>\n",
       "      <th>329</th>\n",
       "      <td>-0.012780</td>\n",
       "      <td>0.050680</td>\n",
       "      <td>-0.055785</td>\n",
       "      <td>-0.002228</td>\n",
       "      <td>-0.027712</td>\n",
       "      <td>-0.029184</td>\n",
       "      <td>0.019187</td>\n",
       "      <td>-0.039493</td>\n",
       "      <td>-0.017052</td>\n",
       "      <td>0.044485</td>\n",
       "    </tr>\n",
       "    <tr>\n",
       "      <th>261</th>\n",
       "      <td>0.048974</td>\n",
       "      <td>-0.044642</td>\n",
       "      <td>-0.041774</td>\n",
       "      <td>0.104501</td>\n",
       "      <td>0.035582</td>\n",
       "      <td>-0.025739</td>\n",
       "      <td>0.177497</td>\n",
       "      <td>-0.076395</td>\n",
       "      <td>-0.012908</td>\n",
       "      <td>0.015491</td>\n",
       "    </tr>\n",
       "    <tr>\n",
       "      <th>111</th>\n",
       "      <td>0.019913</td>\n",
       "      <td>-0.044642</td>\n",
       "      <td>0.004572</td>\n",
       "      <td>-0.026328</td>\n",
       "      <td>0.023198</td>\n",
       "      <td>0.010273</td>\n",
       "      <td>0.067048</td>\n",
       "      <td>-0.039493</td>\n",
       "      <td>-0.023645</td>\n",
       "      <td>-0.046641</td>\n",
       "    </tr>\n",
       "    <tr>\n",
       "      <th>271</th>\n",
       "      <td>0.038076</td>\n",
       "      <td>0.050680</td>\n",
       "      <td>0.008883</td>\n",
       "      <td>0.042530</td>\n",
       "      <td>-0.042848</td>\n",
       "      <td>-0.021042</td>\n",
       "      <td>-0.039719</td>\n",
       "      <td>-0.002592</td>\n",
       "      <td>-0.018118</td>\n",
       "      <td>0.007207</td>\n",
       "    </tr>\n",
       "    <tr>\n",
       "      <th>17</th>\n",
       "      <td>0.070769</td>\n",
       "      <td>0.050680</td>\n",
       "      <td>0.012117</td>\n",
       "      <td>0.056301</td>\n",
       "      <td>0.034206</td>\n",
       "      <td>0.049416</td>\n",
       "      <td>-0.039719</td>\n",
       "      <td>0.034309</td>\n",
       "      <td>0.027368</td>\n",
       "      <td>-0.001078</td>\n",
       "    </tr>\n",
       "  </tbody>\n",
       "</table>\n",
       "</div>"
      ],
      "text/plain": [
       "          age       sex       bmi        bp        s1        s2        s3  \\\n",
       "329 -0.012780  0.050680 -0.055785 -0.002228 -0.027712 -0.029184  0.019187   \n",
       "261  0.048974 -0.044642 -0.041774  0.104501  0.035582 -0.025739  0.177497   \n",
       "111  0.019913 -0.044642  0.004572 -0.026328  0.023198  0.010273  0.067048   \n",
       "271  0.038076  0.050680  0.008883  0.042530 -0.042848 -0.021042 -0.039719   \n",
       "17   0.070769  0.050680  0.012117  0.056301  0.034206  0.049416 -0.039719   \n",
       "\n",
       "           s4        s5        s6  \n",
       "329 -0.039493 -0.017052  0.044485  \n",
       "261 -0.076395 -0.012908  0.015491  \n",
       "111 -0.039493 -0.023645 -0.046641  \n",
       "271 -0.002592 -0.018118  0.007207  \n",
       "17   0.034309  0.027368 -0.001078  "
      ]
     },
     "execution_count": 17,
     "metadata": {},
     "output_type": "execute_result"
    }
   ],
   "source": [
    "X_train.head()"
   ]
  },
  {
   "cell_type": "markdown",
   "id": "eee0c710",
   "metadata": {},
   "source": [
    "## Train a linear regression model"
   ]
  },
  {
   "cell_type": "code",
   "execution_count": 18,
   "id": "59d7775f",
   "metadata": {},
   "outputs": [
    {
     "name": "stdout",
     "output_type": "stream",
     "text": [
      "Regression Score (LinearRegression): 0.4271568714091656\n"
     ]
    }
   ],
   "source": [
    "model = LinearRegression()\n",
    "model.fit(X_train, y_train)\n",
    "print(\"Regression Score (LinearRegression):\", model.score(X_test, y_test))"
   ]
  },
  {
   "cell_type": "code",
   "execution_count": 19,
   "id": "5cd887cd",
   "metadata": {},
   "outputs": [
    {
     "data": {
      "image/png": "[encoded data removed]",
      "text/plain": [
       "<Figure size 432x288 with 1 Axes>"
      ]
     },
     "metadata": {
      "needs_background": "light"
     },
     "output_type": "display_data"
    }
   ],
   "source": [
    "# plot prediction and actual data\n",
    "y_pred = model.predict(X_test)\n",
    "plt.plot(y_test, y_pred, \".\")\n",
    "\n",
    "# plot a line, a perfit predict would all fall on this line\n",
    "x = np.linspace(0, 330, 100)\n",
    "y = x\n",
    "plt.plot(x, y)\n",
    "plt.show()"
   ]
  },
  {
   "cell_type": "markdown",
   "id": "6dbd8a73",
   "metadata": {},
   "source": [
    "## train a Random Forest Regressor"
   ]
  },
  {
   "cell_type": "code",
   "execution_count": 20,
   "id": "4420e763",
   "metadata": {},
   "outputs": [
    {
     "name": "stdout",
     "output_type": "stream",
     "text": [
      "Regression Score (RandomForest): 0.41867706432270924\n"
     ]
    }
   ],
   "source": [
    "model2 = RandomForestRegressor()\n",
    "model2.fit(X_train, y_train)\n",
    "print(\"Regression Score (RandomForest):\", model2.score(X_test, y_test))"
   ]
  },
  {
   "cell_type": "code",
   "execution_count": 21,
   "id": "6b03a2ec",
   "metadata": {},
   "outputs": [
    {
     "data": {
      "image/png": "[encoded data removed]",
      "text/plain": [
       "<Figure size 432x288 with 1 Axes>"
      ]
     },
     "metadata": {
      "needs_background": "light"
     },
     "output_type": "display_data"
    }
   ],
   "source": [
    "# plot prediction and actual data\n",
    "y_pred = model2.predict(X_test)\n",
    "plt.plot(y_test, y_pred, \".\")\n",
    "\n",
    "# plot a line, a perfit predict would all fall on this line\n",
    "x = np.linspace(0, 330, 100)\n",
    "y = x\n",
    "plt.plot(x, y)\n",
    "plt.show()"
   ]
  },
  {
   "cell_type": "markdown",
   "id": "b0cf08b4",
   "metadata": {},
   "source": [
    "## Export Data and Models to Marcelle\n",
    "\n",
    "First, we write the data as CSV for the Marcelle Interface"
   ]
  },
  {
   "cell_type": "code",
   "execution_count": 22,
   "id": "eed7a5a8",
   "metadata": {},
   "outputs": [],
   "source": [
    "train_set = pd.concat([X_train, y_train], axis=1)\n",
    "train_set.to_csv(\"diabetes_train_set.csv\")\n",
    "test_set = pd.concat([X_test, y_test], axis=1)\n",
    "test_set.to_csv(\"diabetes_test_set.csv\")"
   ]
  },
  {
   "cell_type": "markdown",
   "id": "5549025a",
   "metadata": {},
   "source": [
    "Then, we convert the model to ONNX"
   ]
  },
  {
   "cell_type": "code",
   "execution_count": 25,
   "id": "d4813920",
   "metadata": {},
   "outputs": [],
   "source": [
    "initial_type = [(\"input\", FloatTensorType([1, 10]))]\n",
    "onx_model = convert_sklearn(\n",
    "    model,\n",
    "    initial_types=initial_type,\n",
    "    target_opset=12,\n",
    ")\n",
    "with open(\"../public/diabetes_linear_model.onnx\", \"wb\") as f:\n",
    "    f.write(onx_model.SerializeToString())"
   ]
  },
  {
   "cell_type": "code",
   "execution_count": 26,
   "id": "a6c2cbfc",
   "metadata": {},
   "outputs": [],
   "source": [
    "initial_type = [(\"input\", FloatTensorType([1, 10]))]\n",
    "onx_model2 = convert_sklearn(\n",
    "    model2,\n",
    "    initial_types=initial_type,\n",
    "    target_opset=12,\n",
    ")\n",
    "with open(\"../public/diabetes_random_forest.onnx\", \"wb\") as f:\n",
    "    f.write(onx_model2.SerializeToString())"
   ]
  }
 ],
 "metadata": {
  "kernelspec": {
   "display_name": "Python 3 (ipykernel)",
   "language": "python",
   "name": "python3"
  },
  "language_info": {
   "codemirror_mode": {
    "name": "ipython",
    "version": 3
   },
   "file_extension": ".py",
   "mimetype": "text/x-python",
   "name": "python",
   "nbconvert_exporter": "python",
   "pygments_lexer": "ipython3",
   "version": "3.8.6"
  }
 },
 "nbformat": 4,
 "nbformat_minor": 5
}
